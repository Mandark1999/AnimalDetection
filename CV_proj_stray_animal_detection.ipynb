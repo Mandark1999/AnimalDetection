{
 "cells": [
  {
   "cell_type": "code",
   "execution_count": 2,
   "metadata": {},
   "outputs": [],
   "source": [
    "#packages,libraries and modules imported and used\n",
    "import numpy as np\n",
    "import pandas as pd\n",
    "import os\n",
    "import csv\n",
    "import cv2\n",
    "from sklearn.cluster import KMeans\n",
    "from sklearn.model_selection import train_test_split\n",
    "from sklearn.metrics import classification_report\n",
    "import sklearn.metrics as metrics\n",
    "from sklearn.metrics import accuracy_score"
   ]
  },
  {
   "cell_type": "code",
   "execution_count": 2,
   "metadata": {},
   "outputs": [],
   "source": [
    "#Feature vector and Kmeans on 1 image\n",
    "\n",
    "path=r\"C:\\Users\\francis\\Desktop\\2nd Semester\\CV\\CourseProject\\Dataset\\Cat\\60.jpg\"\n",
    "a=cv2.imread(path)\n",
    "\n",
    "resize=(512,512)\n",
    "#resize image\n",
    "\n",
    "img=cv2.resize(a,resize)\n",
    "\n",
    "gray = cv2.cvtColor(img, cv2.COLOR_BGR2GRAY)\n",
    "#initialise sift descriptor\n",
    "\n",
    "sift = cv2.xfeatures2d.SIFT_create()\n",
    "\n",
    "keypoints, descriptors = sift.detectAndCompute(gray, None)\n",
    "\n",
    "#convert the descriptor array into a dataframe format\n",
    "out=pd.DataFrame(descriptors)\n",
    "\n",
    "#initialise Kmeans and create 5 clusters\n",
    "kmeans = KMeans(n_clusters=5)\n",
    "\n",
    "#train the model for the features i.e. for all elements in the Dataframe\n",
    "\n",
    "kmeans.fit(out.values)\n",
    "#a is the array of predicted clusters\n",
    "a=kmeans.labels_\n",
    "\n",
    "#get the values of the histogram for one image only for 5 clusters i.e. in 5 bins\n",
    "#kmeans.labels_ give us the label vlaue of the feature that its clustered into\n",
    "#hist will give the hostogram for all those vlaues\n",
    "hist=np.histogram(kmeans.labels_,bins=[0,1,2,3,4,5])\n"
   ]
  },
  {
   "cell_type": "code",
   "execution_count": 3,
   "metadata": {},
   "outputs": [
    {
     "name": "stdout",
     "output_type": "stream",
     "text": [
      "shape: (497, 128)\n",
      "Feature vector\n",
      "      0      1      2     3     4      5     6     7      8      9    ...  \\\n",
      "0    16.0   97.0   39.0   4.0   0.0    0.0  13.0  21.0   74.0  143.0  ...   \n",
      "1     2.0   34.0  119.0  81.0   5.0    1.0   2.0   1.0   56.0  140.0  ...   \n",
      "2     0.0    0.0  119.0  67.0   0.0    0.0   0.0   0.0    0.0    3.0  ...   \n",
      "3     0.0    0.0    2.0  24.0  66.0   45.0  17.0   2.0    1.0    1.0  ...   \n",
      "4    33.0   34.0    6.0   2.0   8.0  109.0  48.0   4.0    1.0    1.0  ...   \n",
      "..    ...    ...    ...   ...   ...    ...   ...   ...    ...    ...  ...   \n",
      "492   8.0    3.0    7.0  19.0   6.0    7.0  24.0  32.0   11.0   29.0  ...   \n",
      "493  23.0  110.0   58.0  19.0  20.0    8.0   0.0   1.0   31.0   87.0  ...   \n",
      "494   0.0    0.0    0.0   0.0   0.0    1.0   1.0   0.0    1.0    3.0  ...   \n",
      "495  41.0   56.0   12.0   2.0   3.0    3.0  41.0  85.0  109.0  133.0  ...   \n",
      "496  39.0    4.0    0.0  17.0  18.0    2.0   6.0  41.0    3.0    2.0  ...   \n",
      "\n",
      "      118   119   120   121   122   123   124   125   126   127  \n",
      "0     0.0   0.0   0.0   0.0   0.0   0.0   0.0   0.0   0.0   0.0  \n",
      "1     0.0   0.0   0.0   0.0   0.0   0.0   0.0   0.0   0.0   0.0  \n",
      "2    69.0  20.0   5.0  56.0  43.0  11.0   8.0  15.0  26.0   9.0  \n",
      "3     0.0   4.0  28.0  94.0  67.0   1.0   0.0   0.0   0.0   4.0  \n",
      "4     0.0   0.0   0.0   0.0   0.0   0.0   0.0   0.0   0.0   0.0  \n",
      "..    ...   ...   ...   ...   ...   ...   ...   ...   ...   ...  \n",
      "492  24.0   7.0   6.0  16.0  13.0  25.0  14.0  29.0  55.0   7.0  \n",
      "493   0.0   0.0   2.0  14.0   1.0   0.0   2.0   2.0   0.0   0.0  \n",
      "494  22.0  16.0  32.0   3.0   6.0   8.0   5.0   8.0  13.0  53.0  \n",
      "495   0.0   0.0  22.0  10.0   2.0   3.0   4.0   1.0   0.0   1.0  \n",
      "496   6.0  29.0  10.0   7.0   5.0  48.0  23.0  11.0  20.0   8.0  \n",
      "\n",
      "[497 rows x 128 columns]\n"
     ]
    }
   ],
   "source": [
    "#Feature vector and shape\n",
    "\n",
    "print(\"shape:\",out.shape)\n",
    "print(\"Feature vector\")\n",
    "print(out)"
   ]
  },
  {
   "cell_type": "code",
   "execution_count": 4,
   "metadata": {},
   "outputs": [
    {
     "name": "stdout",
     "output_type": "stream",
     "text": [
      "Kmeans\n",
      "KMeans(n_clusters=5)\n"
     ]
    }
   ],
   "source": [
    "#kmeans\n",
    "\n",
    "print(\"Kmeans\")\n",
    "print(kmeans)\n"
   ]
  },
  {
   "cell_type": "code",
   "execution_count": 5,
   "metadata": {},
   "outputs": [
    {
     "name": "stdout",
     "output_type": "stream",
     "text": [
      "Centers\n",
      "[[ 23.921213   26.272724   27.230297   22.181818   20.951515   19.690912\n",
      "   14.690912   16.303034   39.12727    34.98788    28.545454   23.575758\n",
      "   22.975758   19.927273   25.321209   31.927273   26.606045   24.672733\n",
      "   25.721212   24.812115   31.787888   28.963634   30.418184   28.533333\n",
      "   23.62424    23.903027   21.345455   17.939392   20.787878   20.060606\n",
      "   19.25454    20.436365   39.121223   31.272732   37.400017   46.466675\n",
      "   38.806065   23.67273    10.909092   13.036362  119.37576    45.084846\n",
      "   19.812119   16.315168   14.018206   22.721212   42.85456    76.01817\n",
      "   30.066666   13.278799   14.3393955  34.387882   66.70305    76.17575\n",
      "   60.36361    38.32121    28.981823   25.006063   22.533329   26.28485\n",
      "   32.933334   30.357578   24.26667    25.78182    39.109097   13.927274\n",
      "   14.557577   28.218182   39.200005   42.606064   31.266674   29.096975\n",
      "  117.218185   77.89698    43.812096   25.090908   13.551516   12.393938\n",
      "   16.260605   44.842422   27.63638    38.2303     62.32122    85.29089\n",
      "   64.721176   29.884848   13.018178   13.533335   27.703037   29.600002\n",
      "   26.363634   29.490906   29.09697    21.236366   22.315153   28.527279\n",
      "   22.896969   15.084848   13.915148   16.096973   24.727276   26.963638\n",
      "   27.06667    29.193935   38.260605   32.296967   25.660614   21.618189\n",
      "   21.793936   20.733334   25.412125   33.69698    28.151527   29.460602\n",
      "   30.363632   29.903034   27.006058   23.569704   22.10909    24.933336\n",
      "   24.218182   23.496971   20.32121    17.072725   20.096972   19.569698\n",
      "   22.315155   25.836359 ]\n",
      " [ 19.538464   18.48077    24.78846    23.211538   18.451923   17.048077\n",
      "   21.375006   17.932697   25.74039    33.538464   39.20192    29.923079\n",
      "   18.028843   16.211538   20.817307   23.865383   25.336536   35.846157\n",
      "   33.144238   26.596153   22.115385   24.875      23.605772   21.105774\n",
      "   16.307697   13.3076935  16.03846    18.509611   24.192307   26.432693\n",
      "   25.028849   21.865387   19.74039    21.807692   30.048075   37.625\n",
      "   30.92308    27.230772   26.057697   19.807692   21.903866   43.55769\n",
      "   81.08658    93.52887    69.75963    27.903847   11.682696   10.596146\n",
      "  118.34614    94.89426    59.461533   27.884613   12.807705   12.884615\n",
      "   15.894239   34.980766   42.58654    15.374999   12.375001   18.576921\n",
      "   34.721153   45.77884    35.83654    27.644232   19.817307   21.230772\n",
      "   24.750008   28.625      38.038464   31.80769    26.836538   21.874998\n",
      "   26.423084   12.12501    16.163462   34.826912   77.375      89.25963\n",
      "   60.048088   34.09615   121.85579    50.000004   18.778843   12.442299\n",
      "   12.673073   25.673079   45.1827     81.00961    43.23078    37.221157\n",
      "   41.942307   42.634605   36.009617   26.49038    13.028846   11.980774\n",
      "   20.326921   19.528845   17.884613   20.971157   25.605774   22.144232\n",
      "   22.355768   19.682692   22.711538   21.365381   21.548079   20.51923\n",
      "   27.240385   38.89423    33.365383   24.375004   34.259617   36.249996\n",
      "   25.471153   20.644234   21.846153   26.634619   27.586533   28.749998\n",
      "   21.25       32.125008   31.711542   25.221157   20.509615   15.8076935\n",
      "   14.490384   16.317308 ]\n",
      " [ 27.247314   33.591408   28.204298   15.33334    12.236563    4.5376377\n",
      "    3.3118343   9.956992   76.45162    60.634396   22.978493    8.236551\n",
      "    4.0322666   2.7096777   4.677415   21.763441   78.13979    40.82796\n",
      "   14.462374    4.1075163   7.7741947   6.4408617  11.096772   39.881725\n",
      "   30.666672   15.053764    8.8494625   8.4193535  23.494621   15.935484\n",
      "   13.440862   23.344088   33.84946    24.784946   19.451614   16.526886\n",
      "   12.698927    7.784937   11.365593   16.010752  110.32256    54.268826\n",
      "   18.537632    5.7311935   2.2903442   5.763441   13.075266   34.69892\n",
      "  118.978485   43.064514    8.569895    3.043007    5.9462547   7.913988\n",
      "   18.795706   44.591393   40.763443   11.967743    6.559141   10.537631\n",
      "   29.709684   21.935486   18.559143   23.698927   35.69892    14.677421\n",
      "    8.52688     8.4086075  10.172047   19.258076   25.66667    28.795698\n",
      "  108.118286   29.000008    6.9462357   2.258051    2.9677353   9.236547\n",
      "   23.849459   54.182793  121.30109    39.80645    11.494629    5.4300995\n",
      "    5.655899    4.247305   13.473116   45.10753    41.946243   19.63441\n",
      "   13.666669   17.645164   29.225813   13.731185    9.505373   17.043013\n",
      "   25.84946    12.086022    4.612899    3.0322657  10.784943   21.354841\n",
      "   26.2043     28.12903    74.666664   25.440857    6.258067    2.258069\n",
      "    4.9247246   9.139785   18.892471   48.451622   76.82796    40.13978\n",
      "   14.139784    8.139783    5.6559105   3.5698996   9.978487   34.784946\n",
      "   27.688173   24.838713   17.010752   16.709679   19.612906    6.5053806\n",
      "    6.784949   13.838709 ]\n",
      " [ 14.386364    9.124997   10.784084   21.488636   32.272728   22.02273\n",
      "   13.124999   11.999999   23.659092   15.079548   13.874995   41.03409\n",
      "   71.10229    31.204546   12.136364   10.613634   88.79546    38.795456\n",
      "   14.840908   13.647727   16.19318     8.363632   11.181821   44.818184\n",
      "   36.715916   17.875      12.954544    7.340906   11.897726   10.863636\n",
      "   16.670456   31.636366   21.272726   11.329549   10.852274   20.943188\n",
      "   47.943184   34.204548   18.647728   18.81818    34.318172   17.39774\n",
      "   17.022722   69.82955   119.63639    48.37501    11.670457    9.4772625\n",
      "  133.73862    53.056816   13.681818   18.761362   17.965912    6.92045\n",
      "    9.7841     48.715904   53.35228    12.988636    7.1363645  12.204542\n",
      "   21.625      17.761364   24.125      33.068184   17.034092   13.113636\n",
      "   16.397728   25.261362   45.090908   28.386362   15.147729   14.25\n",
      "   28.227268    7.5113754   6.056818   31.840908  108.374985   80.45455\n",
      "   37.170452   30.034086  129.96593    30.784092    4.5227375   6.5795364\n",
      "   16.556818   20.125      31.363636   79.71591    51.44319    23.954548\n",
      "   15.454544   22.65909    25.534092   11.39773    11.215908   18.25\n",
      "   12.647726    8.204546   12.272728   18.931818   28.64773    20.193184\n",
      "   16.693178   13.624996   23.727272   11.488633    8.613638   23.93182\n",
      "   61.94319    39.693184   21.772726   24.943186   76.55682    31.397724\n",
      "    8.477273    9.409092   14.499999   14.022726   20.170454   43.875008\n",
      "   30.079546   21.55682    13.454544   17.454546   19.55682    12.431817\n",
      "    9.818182   14.715909 ]\n",
      " [ 16.148937   10.765956   14.3617     33.9149    104.85107    19.553192\n",
      "    4.829787    3.914897  117.70215    38.489365   14.723403   12.425531\n",
      "   27.38298     5.7872343   6.6595736  23.829786   62.40426    22.042557\n",
      "   11.829788    2.9361696   9.978722    6.8297853  10.468088   23.595743\n",
      "    7.063835    8.255317    8.021275    5.361701   10.0212755   7.0638304\n",
      "    7.361704    7.0638313  22.276594    4.872343    8.74468    41.10638\n",
      "  123.29785    38.723408    9.510637    6.808509  140.29785    22.489367\n",
      "    5.9787197   9.978718   28.51064    11.297872   10.042556   42.6383\n",
      "   82.         13.063824    8.553188    4.595749   15.851068   17.680851\n",
      "   19.468086   26.659573   13.404259   10.361701    8.659576    5.5531883\n",
      "   12.127666   10.82979    10.446812    6.6595726  23.936169    4.5744686\n",
      "    8.723404   40.680855  126.21274    32.553192    7.872343    5.148941\n",
      "  145.0851     38.638298    5.5319157   7.446808   30.446812    8.489365\n",
      "    4.34042    20.53191    89.93617    22.808516    9.85107     8.446806\n",
      "   18.531916   14.468086    8.595749   10.5744705  11.404264    8.659578\n",
      "    9.702128    4.34042    11.000004   15.765959   10.148936    5.65958\n",
      "   21.574469    3.361701    6.7446804  26.531921  106.17018    18.829788\n",
      "    9.127658    9.191487  128.97873    24.425531    4.3404293   5.8936157\n",
      "   24.617022    8.744681    6.7872353  35.234043   70.36171    17.872335\n",
      "    6.3404226   6.8510656  12.638298    6.4893646   4.893611   16.234047\n",
      "    7.8936167   4.4042606   7.765954    3.7659616   8.212768   10.255319\n",
      "    4.5319176   5.319146 ]]\n"
     ]
    }
   ],
   "source": [
    "#kmeans centers\n",
    "\n",
    "print(\"Centers\")\n",
    "print(kmeans.cluster_centers_)"
   ]
  },
  {
   "cell_type": "code",
   "execution_count": 6,
   "metadata": {},
   "outputs": [
    {
     "name": "stdout",
     "output_type": "stream",
     "text": [
      "labels\n",
      "[2 0 1 0 0 2 2 0 0 0 1 1 0 1 0 3 3 3 1 3 0 2 3 3 0 0 0 3 3 0 0 2 2 1 2 2 0\n",
      " 2 4 0 0 1 2 0 0 4 2 2 0 1 1 1 4 1 0 1 0 0 3 1 0 0 2 2 0 1 1 0 4 3 0 4 4 3\n",
      " 3 0 4 2 2 4 0 4 3 2 3 3 1 0 3 2 2 4 2 0 3 3 3 0 4 0 3 4 4 4 2 4 4 1 0 0 4\n",
      " 2 2 2 2 1 1 3 0 0 0 2 2 4 0 0 0 4 2 2 3 2 2 2 2 0 2 4 2 2 3 3 2 1 2 3 1 2\n",
      " 0 4 4 2 3 0 4 3 2 1 2 0 1 4 2 4 3 3 1 3 2 0 0 3 4 2 2 0 0 4 2 1 2 2 4 1 3\n",
      " 1 1 0 0 0 2 1 2 2 2 0 0 0 2 2 1 4 2 4 0 4 4 4 4 2 4 2 0 0 2 3 3 3 0 3 1 1\n",
      " 2 2 3 3 0 4 2 2 0 0 3 4 0 0 3 3 3 2 0 2 2 0 0 0 3 3 1 1 1 2 2 0 2 1 1 1 1\n",
      " 3 0 4 3 0 0 0 2 3 0 3 1 3 0 0 3 3 3 2 4 1 2 2 2 4 2 2 3 2 0 4 2 2 1 3 4 1\n",
      " 1 1 1 3 1 2 0 4 4 0 3 1 2 2 1 0 2 1 0 0 2 2 2 2 1 1 1 0 2 2 1 0 1 0 0 0 3\n",
      " 0 0 0 0 0 0 0 0 1 0 0 0 0 1 0 0 0 3 3 3 0 0 3 1 0 3 0 1 1 0 3 0 1 0 0 1 1\n",
      " 1 0 0 0 1 1 0 0 1 1 0 1 3 1 1 1 0 0 2 0 1 0 0 1 1 0 0 3 0 0 0 0 0 3 1 1 0\n",
      " 0 0 0 1 1 0 1 3 1 0 0 0 0 1 1 1 1 3 0 3 1 0 0 0 3 0 0 0 0 1 0 3 0 0 0 0 0\n",
      " 2 2 3 0 1 3 3 1 1 1 1 3 1 1 3 3 0 0 4 1 1 3 0 1 3 3 0 1 1 3 3 1 1 1 1 1 3\n",
      " 3 0 0 4 0 3 3 2 4 3 0 0 0 0 0 3]\n",
      "Labels shapel / predicted values\n",
      "(497,)\n"
     ]
    }
   ],
   "source": [
    "#kmeans clusterd values and shape\n",
    "\n",
    "print(\"labels\")\n",
    "print(kmeans.labels_)\n",
    "a=kmeans.labels_\n",
    "print(\"Labels shapel / predicted values\")\n",
    "print(a.shape)"
   ]
  },
  {
   "cell_type": "code",
   "execution_count": 7,
   "metadata": {},
   "outputs": [
    {
     "name": "stdout",
     "output_type": "stream",
     "text": [
      "histogram[0,1,2,3,4]\n",
      "(array([165, 104,  93,  88,  47], dtype=int32), array([0, 1, 2, 3, 4, 5]))\n"
     ]
    }
   ],
   "source": [
    "#Histogram\n",
    "\n",
    "print(\"histogram[0,1,2,3,4]\")\n",
    "print(hist)"
   ]
  },
  {
   "cell_type": "code",
   "execution_count": null,
   "metadata": {},
   "outputs": [],
   "source": [
    "#extraction of postitve images of Cat having 101 images\n",
    "\n",
    "folder1=r\"C:\\Users\\francis\\Desktop\\2nd Semester\\CV\\CourseProject\\DATA\\Cat\"\n",
    "\n",
    "for filename in os.listdir(folder1):\n",
    "    path=os.path.join(folder1,filename)\n",
    "    a=cv2.imread(path)\n",
    "    resize=(512,512)\n",
    "    img=cv2.resize(a,resize)#resize image\n",
    "    gray = cv2.cvtColor(img, cv2.COLOR_BGR2GRAY)\n",
    "    sift = cv2.xfeatures2d.SIFT_create()#initialise sift detector\n",
    "    keypoints, descriptors = sift.detectAndCompute(gray, None)#collection of detectors from image\n",
    "    out=pd.DataFrame(descriptors)\n",
    "    csv_data=out.to_csv('cat.csv', mode='a', header=False)\n",
    "    \n",
    "    \n",
    "    \n",
    "    "
   ]
  },
  {
   "cell_type": "code",
   "execution_count": null,
   "metadata": {},
   "outputs": [],
   "source": [
    "#extraction of negative images of Dog having 101 images\n",
    "\n",
    "folder2=r\"C:\\Users\\francis\\Desktop\\2nd Semester\\CV\\CourseProject\\DATA\\Dog\"\n",
    "\n",
    "for filename in os.listdir(folder2):\n",
    "    path=os.path.join(folder2,filename)\n",
    "    a=cv2.imread(path)\n",
    "    resize=(512,512)\n",
    "    img=cv2.resize(a,resize)\n",
    "    gray = cv2.cvtColor(img, cv2.COLOR_BGR2GRAY)\n",
    "    sift = cv2.xfeatures2d.SIFT_create()\n",
    "    keypoints, descriptors = sift.detectAndCompute(gray, None)\n",
    "    out=pd.DataFrame(descriptors)\n",
    "    csv_data=out.to_csv('dog.csv', mode='a', header=False)\n",
    "    "
   ]
  },
  {
   "cell_type": "code",
   "execution_count": 12,
   "metadata": {},
   "outputs": [
    {
     "name": "stdout",
     "output_type": "stream",
     "text": [
      "         1   2   3   4   5    6    7    8    9  10  ...  119  120  121  122  \\\n",
      "0        0   0   1   2  10  131   21    1   63   5  ...    2   11    2    7   \n",
      "1       37   0   0   0  53   26    3   24  143   0  ...    0   16    9  101   \n",
      "2        7   2   0   0   0    0    0    1   31   1  ...    1    2   10   33   \n",
      "3        4   8  11   4   0    0  125   48    2   6  ...    0    0    0    0   \n",
      "4       35  20   9  13  16   27   26   52   94  22  ...   42   24   16    2   \n",
      "...     ..  ..  ..  ..  ..  ...  ...  ...  ...  ..  ...  ...  ...  ...  ...   \n",
      "213833   0   0   0   0   0    0    0    0    5   1  ...   18   63    0    0   \n",
      "213834  51   0   0   0   0    5   13  130   69   3  ...    0    0    1    0   \n",
      "213835  55  35  40  26   7    0    0   11   50   8  ...    0    0    0   32   \n",
      "213836   6   1   7  19  55  118   10    8   21   8  ...    0   11    8    4   \n",
      "213837   0   0   0   0   0    0    0    0    0   1  ...    1    4    0   38   \n",
      "\n",
      "        123  124  125  126  127  128  \n",
      "0        79   16    0    0    0    0  \n",
      "1       143   51   12    0    0    4  \n",
      "2        96   57   23   18    1    1  \n",
      "3         0    0    0    0    0    0  \n",
      "4         0    0    0    2   12   12  \n",
      "...     ...  ...  ...  ...  ...  ...  \n",
      "213833    1  123  120    0    0    1  \n",
      "213834    0    6   16    0    0    0  \n",
      "213835   89    5    0    0    0    0  \n",
      "213836    8   19    6    2    0    3  \n",
      "213837  136   31    4    3    0    0  \n",
      "\n",
      "[213838 rows x 128 columns]\n"
     ]
    }
   ],
   "source": [
    "#Feature vector of the entire Cat class\n",
    "\n",
    "data= pd.read_csv(r'C:\\Users\\francis\\Desktop\\2nd Semester\\CV\\Lab\\CAT.csv')\n",
    "print(data)"
   ]
  },
  {
   "cell_type": "code",
   "execution_count": 13,
   "metadata": {},
   "outputs": [
    {
     "name": "stdout",
     "output_type": "stream",
     "text": [
      "         1   2   3   4   5   6   7   8    9   10  ...  119  120  121  122  \\\n",
      "0        0   0   0   0   0   0   0   0    1   26  ...  118   80   16   20   \n",
      "1       10  17  46  37  19  21  85  36    6    4  ...   10   28    5    0   \n",
      "2        6   9   6  37  16   0   0   0   17   17  ...    7   27   32   25   \n",
      "3        5   2   0   0   0   0   1   3   41   10  ...    4   21    8   14   \n",
      "4       46  30   8   1   2   4  16  50  201  103  ...   20   37    8    4   \n",
      "...     ..  ..  ..  ..  ..  ..  ..  ..  ...  ...  ...  ...  ...  ...  ...   \n",
      "169602  36  16  74  42   0   0   1   9    8   43  ...    5   32   33   55   \n",
      "169603  11   2   4   5   2   3  10   8  118   14  ...    0    1   22   10   \n",
      "169604   0   0   0   0   0   6  10   1  185   31  ...    2   15   67    0   \n",
      "169605   0   0   0   0   0   0   0   0   96   48  ...    5   22    0    0   \n",
      "169606   4  18  36  69  22   3  14   6   41   81  ...    0   18   37   24   \n",
      "\n",
      "        123  124  125  126  127  128  \n",
      "0        29   29   34   19   36   47  \n",
      "1         1   15   12   10   44  100  \n",
      "2       133   98   11    1    3   27  \n",
      "3        44   53   29    3   13   35  \n",
      "4         4    7    2    4   11    3  \n",
      "...     ...  ...  ...  ...  ...  ...  \n",
      "169602    9    0    0    3   32   40  \n",
      "169603    1    3    9    2    1    2  \n",
      "169604    0    0    0   16   21   17  \n",
      "169605    1   21   17   11   12    0  \n",
      "169606   27   17    1    0    1    3  \n",
      "\n",
      "[169607 rows x 128 columns]\n"
     ]
    }
   ],
   "source": [
    "#Feature vector of the entire Dog class\n",
    "\n",
    "data2= pd.read_csv(r'C:\\Users\\francis\\Desktop\\2nd Semester\\CV\\Lab\\DOG.csv')\n",
    "print(data2)"
   ]
  },
  {
   "cell_type": "code",
   "execution_count": 14,
   "metadata": {},
   "outputs": [
    {
     "data": {
      "text/plain": [
       "KMeans(n_clusters=5)"
      ]
     },
     "execution_count": 14,
     "metadata": {},
     "output_type": "execute_result"
    }
   ],
   "source": [
    "kmeans1 = KMeans(n_clusters=5)\n",
    "\n",
    "#train the model for the features i.e. for all elements in the Dataframe\n",
    "#applyng kmeans of cats data\n",
    "kmeans1.fit(data)"
   ]
  },
  {
   "cell_type": "code",
   "execution_count": 15,
   "metadata": {},
   "outputs": [
    {
     "data": {
      "text/plain": [
       "KMeans(n_clusters=5)"
      ]
     },
     "execution_count": 15,
     "metadata": {},
     "output_type": "execute_result"
    }
   ],
   "source": [
    "kmeans2 = KMeans(n_clusters=5)\n",
    "\n",
    "#applying kmeans on dogs data\n",
    "kmeans2.fit(data2)"
   ]
  },
  {
   "cell_type": "code",
   "execution_count": 16,
   "metadata": {},
   "outputs": [
    {
     "name": "stdout",
     "output_type": "stream",
     "text": [
      "histogram of Cats\n",
      "(array([30620, 35346, 30233, 54932, 62707], dtype=int32), array([0, 1, 2, 3, 4, 5]))\n",
      "histogram of Dogs\n",
      "(array([27331, 23205, 40482, 47794, 30795], dtype=int32), array([0, 1, 2, 3, 4, 5]))\n"
     ]
    }
   ],
   "source": [
    "hist1=np.histogram(kmeans1.labels_,bins=[0,1,2,3,4,5])\n",
    "hist2=np.histogram(kmeans2.labels_,bins=[0,1,2,3,4,5])\n",
    "\n",
    "print('histogram of Cats')\n",
    "print(hist1)\n",
    "\n",
    "print('histogram of Dogs')\n",
    "print(hist2)"
   ]
  },
  {
   "cell_type": "code",
   "execution_count": 25,
   "metadata": {},
   "outputs": [],
   "source": [
    "#performing kmeans prediction of the entire cat dataset with the pretrained kmeans model\n",
    "\n",
    "folder1=r\"C:\\Users\\francis\\Desktop\\2nd Semester\\CV\\CourseProject\\DATA\\Cat\"\n",
    "#initialising i=0; as its the first class\n",
    "i=0\n",
    "data=[]\n",
    "\n",
    "for filename in os.listdir(folder1):\n",
    "    path=os.path.join(folder1,filename)\n",
    "    a=cv2.imread(path)\n",
    "    resize=(512,512)\n",
    "    img=cv2.resize(a,resize)\n",
    "    gray = cv2.cvtColor(img, cv2.COLOR_BGR2GRAY)\n",
    "    sift = cv2.xfeatures2d.SIFT_create()\n",
    "    keypoints, descriptors = sift.detectAndCompute(gray, None)\n",
    "    out=pd.DataFrame(descriptors)\n",
    "    #predict values of feature vector with pretrained kmeans\n",
    "    array_double = np.array(out, dtype=np.double)\n",
    "    a=kmeans1.predict(array_double)\n",
    "    hist=np.histogram(a,bins=[0,1,2,3,4,5])\n",
    "    #append the dataframe into the array in append mode, the array will only have 5 values which will store the values in a row\n",
    "    data.append(hist[0])\n",
    "    \n",
    "#convert Array to Dataframe and append to the list\n",
    "Output = pd.DataFrame(data)\n",
    "#add row class \n",
    "Output[\"Class\"] = i \n",
    "csv_data=Output.to_csv('CatFinal.csv', mode='a', header=False)\n",
    "    \n",
    "    \n"
   ]
  },
  {
   "cell_type": "code",
   "execution_count": 26,
   "metadata": {},
   "outputs": [],
   "source": [
    "#performing kmeans prediction of the entire dog dataset with the pretrained kmeans model\n",
    "\n",
    "folder2=r\"C:\\Users\\francis\\Desktop\\2nd Semester\\CV\\CourseProject\\DATA\\Dog\"\n",
    "#initialising i=0; as its the first class\n",
    "i=1\n",
    "data=[]\n",
    "\n",
    "for filename in os.listdir(folder2):\n",
    "    path=os.path.join(folder2,filename)\n",
    "    a=cv2.imread(path)\n",
    "    resize=(512,512)\n",
    "    img=cv2.resize(a,resize)\n",
    "    gray = cv2.cvtColor(img, cv2.COLOR_BGR2GRAY)\n",
    "    sift = cv2.xfeatures2d.SIFT_create()\n",
    "    keypoints, descriptors = sift.detectAndCompute(gray, None)\n",
    "    out=pd.DataFrame(descriptors)\n",
    "    #predict values of feature vector with pretrained kmeans\n",
    "    array_double = np.array(out, dtype=np.double)\n",
    "    a=kmeans2.predict(array_double)\n",
    "    hist=np.histogram(a,bins=[0,1,2,3,4,5])\n",
    "    #append the dataframe into the array in append mode, the array will only have 5 values which will store the values in a row\n",
    "    data.append(hist[0])\n",
    "    \n",
    "#convert Array to Dataframe and append to the list\n",
    "Output = pd.DataFrame(data)\n",
    "#add row class \n",
    "Output[\"Class\"] = i \n",
    "csv_data=Output.to_csv('DogFinal.csv', mode='a', header=False)"
   ]
  },
  {
   "cell_type": "code",
   "execution_count": 29,
   "metadata": {},
   "outputs": [
    {
     "name": "stdout",
     "output_type": "stream",
     "text": [
      "     features    1    2    3     4     5  class\n",
      "0           0  329  386  598   749  1055      0\n",
      "1           1  456  583  631   658   747      0\n",
      "2           2  359  500  494   911   939      0\n",
      "3           3  721  873  561  1134  1278      0\n",
      "4           4  272  408  283   568   933      0\n",
      "..        ...  ...  ...  ...   ...   ...    ...\n",
      "96         96  117  130  266   269   298      0\n",
      "97         97  124  145  234   130   153      0\n",
      "98         98  116   97  229    76    97      0\n",
      "99         99   40   40  181    70    86      0\n",
      "100       100  600  856  513  1401  1529      0\n",
      "\n",
      "[101 rows x 7 columns]\n",
      "     features    1    2    3    4    5  Class\n",
      "0           0  226  159  421  460  372      1\n",
      "1           1  148  176  205  246  301      1\n",
      "2           2  424  374  670  779  418      1\n",
      "3           3  148  176  205  246  301      1\n",
      "4           4  182  151  512  555  297      1\n",
      "..        ...  ...  ...  ...  ...  ...    ...\n",
      "96         96  112   87  163  195  265      1\n",
      "97         97  427  399  511  620  317      1\n",
      "98         98  711  507  544  666  393      1\n",
      "99         99   92   70  159  173  173      1\n",
      "100       100  226  159  421  460  372      1\n",
      "\n",
      "[101 rows x 7 columns]\n"
     ]
    }
   ],
   "source": [
    "#Displaying the kmeans predicted data\n",
    "\n",
    "data1= pd.read_csv(r'C:\\Users\\francis\\Desktop\\2nd Semester\\CV\\Lab\\CatFinal.csv')\n",
    "print(data1)\n",
    "\n",
    "data2= pd.read_csv(r'C:\\Users\\francis\\Desktop\\2nd Semester\\CV\\Lab\\DogFinal.csv')\n",
    "print(data2)"
   ]
  },
  {
   "cell_type": "code",
   "execution_count": 30,
   "metadata": {},
   "outputs": [],
   "source": [
    "#appending the 2 csv files\n",
    "\n",
    "A=data1.append(data2)\n",
    "\n",
    "csv_data=A.to_csv('Final.csv', mode='a', header=False)"
   ]
  },
  {
   "cell_type": "code",
   "execution_count": 31,
   "metadata": {},
   "outputs": [
    {
     "name": "stdout",
     "output_type": "stream",
     "text": [
      "     No_of_feature    1    2    3     4     5  Class\n",
      "0                0  329  386  598   749  1055      0\n",
      "1                1  456  583  631   658   747      0\n",
      "2                2  359  500  494   911   939      0\n",
      "3                3  721  873  561  1134  1278      0\n",
      "4                4  272  408  283   568   933      0\n",
      "..             ...  ...  ...  ...   ...   ...    ...\n",
      "197             96  112   87  163   195   265      1\n",
      "198             97  427  399  511   620   317      1\n",
      "199             98  711  507  544   666   393      1\n",
      "200             99   92   70  159   173   173      1\n",
      "201            100  226  159  421   460   372      1\n",
      "\n",
      "[202 rows x 7 columns]\n",
      "   No_of_feature    1    2    3     4     5  Class\n",
      "0              0  329  386  598   749  1055      0\n",
      "1              1  456  583  631   658   747      0\n",
      "2              2  359  500  494   911   939      0\n",
      "3              3  721  873  561  1134  1278      0\n",
      "4              4  272  408  283   568   933      0\n"
     ]
    }
   ],
   "source": [
    "data= pd.read_csv(r'C:\\Users\\francis\\Desktop\\2nd Semester\\CV\\Lab\\Final.csv')\n",
    "\n",
    "data.columns=['No_of_feature','1','2','3','4','5','Class']\n",
    "\n",
    "#Total no of images = 404\n",
    "print(data)\n",
    "\n",
    "#printing first 5 columns\n",
    "print(data[0:5])"
   ]
  },
  {
   "cell_type": "code",
   "execution_count": 32,
   "metadata": {},
   "outputs": [
    {
     "name": "stdout",
     "output_type": "stream",
     "text": [
      "X values\n",
      "       1    2    3     4     5\n",
      "0    329  386  598   749  1055\n",
      "1    456  583  631   658   747\n",
      "2    359  500  494   911   939\n",
      "3    721  873  561  1134  1278\n",
      "4    272  408  283   568   933\n",
      "..   ...  ...  ...   ...   ...\n",
      "197  112   87  163   195   265\n",
      "198  427  399  511   620   317\n",
      "199  711  507  544   666   393\n",
      "200   92   70  159   173   173\n",
      "201  226  159  421   460   372\n",
      "\n",
      "[202 rows x 5 columns]\n",
      "Y values\n",
      "0      0\n",
      "1      0\n",
      "2      0\n",
      "3      0\n",
      "4      0\n",
      "      ..\n",
      "197    1\n",
      "198    1\n",
      "199    1\n",
      "200    1\n",
      "201    1\n",
      "Name: Class, Length: 202, dtype: int64\n"
     ]
    }
   ],
   "source": [
    "#assigning x the columns from 1 to 6 for training\n",
    "\n",
    "x = data.iloc[:, 1:6]\n",
    "print(\"X values\")\n",
    "print(x)\n",
    "\n",
    "#assigning y with the column \"Class\" as target variable\n",
    "y = data['Class']\n",
    "print(\"Y values\")\n",
    "print(y)"
   ]
  },
  {
   "cell_type": "code",
   "execution_count": 33,
   "metadata": {},
   "outputs": [],
   "source": [
    "#train Test split\n",
    "x_train, x_test, y_train, y_test = train_test_split(x, y, test_size=.20, random_state=0)"
   ]
  },
  {
   "cell_type": "code",
   "execution_count": 34,
   "metadata": {},
   "outputs": [
    {
     "name": "stdout",
     "output_type": "stream",
     "text": [
      "SVM Results\n",
      "              precision    recall  f1-score   support\n",
      "\n",
      "           0       0.67      0.67      0.67        18\n",
      "           1       0.74      0.74      0.74        23\n",
      "\n",
      "    accuracy                           0.71        41\n",
      "   macro avg       0.70      0.70      0.70        41\n",
      "weighted avg       0.71      0.71      0.71        41\n",
      "\n",
      "SVM:  0.7073170731707317\n"
     ]
    }
   ],
   "source": [
    "from sklearn import svm\n",
    "\n",
    "#Create a svm Classifier\n",
    "model1 = svm.SVC(kernel='linear')\n",
    "\n",
    "\n",
    "#Train the model using the training sets\n",
    "model1.fit(x_train, y_train)\n",
    "\n",
    "#Predict the response for test dataset\n",
    "y_pred1 = model1.predict(x_test)\n",
    "#Results\n",
    "print(\"SVM Results\")\n",
    "print(classification_report(y_test, y_pred1))\n",
    "print(\"SVM: \",accuracy_score(y_test, y_pred1))"
   ]
  },
  {
   "cell_type": "code",
   "execution_count": 3,
   "metadata": {},
   "outputs": [
    {
     "name": "stdout",
     "output_type": "stream",
     "text": [
      "predicted kmeans: [array([33, 56, 44, 37, 48], dtype=int64)]\n",
      "Dataframe:\n",
      "    0   1   2   3   4\n",
      "0  33  56  44  37  48\n"
     ]
    }
   ],
   "source": [
    "#Recognition &Validation\n",
    "#Assigning path with any any class image\n",
    "path=r\"C:\\Users\\user\\CVcourseproject\\dataset\\dog\\d2.jpg\"\n",
    "data=[]\n",
    "\n",
    "#Repeated the process of image pre-processing and feature extraction\n",
    "a=cv2.imread(path)\n",
    "resize=(512,512)\n",
    "\n",
    "#resize image\n",
    "img=cv2.resize(a,resize)\n",
    "gray = cv2.cvtColor(img, cv2.COLOR_BGR2GRAY)\n",
    "\n",
    "#initialise sift descriptor\n",
    "sift = cv2.xfeatures2d.SIFT_create()\n",
    "keypoints, descriptors = sift.detectAndCompute(gray, None)\n",
    "\n",
    "#convert the descriptor array into a dataframe format\n",
    "out=pd.DataFrame(descriptors)\n",
    "\n",
    "#initialise Kmeans and create 5 clusters\n",
    "kmeans = KMeans(n_clusters=5)\n",
    "\n",
    "#train the model for the features i.e. for all elements in the Dataframe\n",
    "kmeans.fit(out.values)\n",
    "\n",
    "#get the values of the histogram for one image only for 5 clusters i.e. in 5 bins\n",
    "#kmeans.labels_ give us the label vlaue of the feature that its clustered into\n",
    "#hist will give the hostogram for all those vlaues\n",
    "hist=np.histogram(kmeans.labels_,bins=[0,1,2,3,4,5])\n",
    "\n",
    "#append the dataframe into the array in append mode, the array will only have 5 values which will store the values in a row\n",
    "data.append(hist[0])\n",
    "\n",
    "print(\"predicted kmeans:\",data)\n",
    "Output = pd.DataFrame(data)\n",
    "\n",
    "print(\"Dataframe:\")\n",
    "print(Output)"
   ]
  },
  {
   "cell_type": "code",
   "execution_count": 4,
   "metadata": {},
   "outputs": [
    {
     "ename": "NameError",
     "evalue": "name 'model1' is not defined",
     "output_type": "error",
     "traceback": [
      "\u001b[1;31m---------------------------------------------------------------------------\u001b[0m",
      "\u001b[1;31mNameError\u001b[0m                                 Traceback (most recent call last)",
      "\u001b[1;32m<ipython-input-4-506bfc6130eb>\u001b[0m in \u001b[0;36m<module>\u001b[1;34m\u001b[0m\n\u001b[0;32m      3\u001b[0m \u001b[1;33m\u001b[0m\u001b[0m\n\u001b[0;32m      4\u001b[0m \u001b[1;31m#prediction\u001b[0m\u001b[1;33m\u001b[0m\u001b[1;33m\u001b[0m\u001b[1;33m\u001b[0m\u001b[0m\n\u001b[1;32m----> 5\u001b[1;33m \u001b[0my_pred1\u001b[0m \u001b[1;33m=\u001b[0m \u001b[0mmodel1\u001b[0m\u001b[1;33m.\u001b[0m\u001b[0mpredict\u001b[0m\u001b[1;33m(\u001b[0m\u001b[0mx\u001b[0m\u001b[1;33m)\u001b[0m\u001b[1;33m\u001b[0m\u001b[1;33m\u001b[0m\u001b[0m\n\u001b[0m\u001b[0;32m      6\u001b[0m \u001b[1;33m\u001b[0m\u001b[0m\n\u001b[0;32m      7\u001b[0m \u001b[1;31m#prints the prediction of the class\u001b[0m\u001b[1;33m\u001b[0m\u001b[1;33m\u001b[0m\u001b[1;33m\u001b[0m\u001b[0m\n",
      "\u001b[1;31mNameError\u001b[0m: name 'model1' is not defined"
     ]
    }
   ],
   "source": [
    "#assigning the columns 1 to 128 of new image as training variables\n",
    "x = Output.iloc[:, 0:5]\n",
    "\n",
    "#prediction\n",
    "y_pred1 = model1.predict(x)\n",
    "\n",
    "#prints the prediction of the class\n",
    "print(y_pred1)"
   ]
  },
  {
   "cell_type": "code",
   "execution_count": 52,
   "metadata": {},
   "outputs": [
    {
     "name": "stdout",
     "output_type": "stream",
     "text": [
      "Cat\n"
     ]
    }
   ],
   "source": [
    "#condition to check if its cat or Dog\n",
    "if y_pred1==0:\n",
    "    print(\"Cat\")\n",
    "elif y_pred1==1:\n",
    "    print(\"Dog\")"
   ]
  },
  {
   "cell_type": "code",
   "execution_count": null,
   "metadata": {},
   "outputs": [],
   "source": []
  }
 ],
 "metadata": {
  "kernelspec": {
   "display_name": "Python 3",
   "language": "python",
   "name": "python3"
  },
  "language_info": {
   "codemirror_mode": {
    "name": "ipython",
    "version": 3
   },
   "file_extension": ".py",
   "mimetype": "text/x-python",
   "name": "python",
   "nbconvert_exporter": "python",
   "pygments_lexer": "ipython3",
   "version": "3.8.5"
  }
 },
 "nbformat": 4,
 "nbformat_minor": 4
}
